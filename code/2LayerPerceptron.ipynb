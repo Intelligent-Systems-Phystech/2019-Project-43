{
 "cells": [
  {
   "cell_type": "code",
   "execution_count": 461,
   "metadata": {},
   "outputs": [],
   "source": [
    "import torch \n",
    "import torch.nn as nn\n",
    "import torch.nn.functional as F\n",
    "import numpy as np\n",
    "import torch.utils.data\n",
    "from matplotlib import pyplot as plt\n",
    "from sklearn.model_selection import train_test_split\n",
    "%matplotlib inline"
   ]
  },
  {
   "cell_type": "code",
   "execution_count": 462,
   "metadata": {},
   "outputs": [],
   "source": [
    "hid = 5\n",
    "m = 30000\n",
    "n = 10"
   ]
  },
  {
   "cell_type": "code",
   "execution_count": 463,
   "metadata": {},
   "outputs": [],
   "source": [
    "W1 = np.random.randn(n, hid)*10\n",
    "b1 = np.random.randn(n)*10\n",
    "w2 = np.asarray([0,-3,5,0,8])\n",
    "b2 = np.asarray([10])"
   ]
  },
  {
   "cell_type": "code",
   "execution_count": 464,
   "metadata": {},
   "outputs": [],
   "source": [
    "X = np.random.randn(m, n)\n",
    "# Z = (X @ W1)*((X @ W1) > 0)\n",
    "Z = np.tanh(X @ W1/30)\n",
    "y = Z @ w2 + b2"
   ]
  },
  {
   "cell_type": "code",
   "execution_count": 465,
   "metadata": {},
   "outputs": [],
   "source": [
    "def get_loader(X, y, batch_size=64):\n",
    "    train = torch.utils.data.TensorDataset(torch.from_numpy(X).float(), \n",
    "                                       torch.from_numpy(y).float())\n",
    "    train_loader = torch.utils.data.DataLoader(train, \n",
    "                                               batch_size=batch_size)\n",
    "    return train_loader"
   ]
  },
  {
   "cell_type": "code",
   "execution_count": 466,
   "metadata": {},
   "outputs": [],
   "source": [
    "X_train, X_test, y_train, y_test = train_test_split(X,y, test_size = 0.5)"
   ]
  },
  {
   "cell_type": "code",
   "execution_count": 467,
   "metadata": {},
   "outputs": [],
   "source": [
    "train_loader = get_loader(X_train, y_train) \n",
    "test_loader = get_loader(X_test, y_test)"
   ]
  },
  {
   "cell_type": "code",
   "execution_count": 468,
   "metadata": {
    "scrolled": true
   },
   "outputs": [],
   "source": [
    "class DenseNet(nn.Module):\n",
    "    def __init__(self, in_ch, hid_ch):\n",
    "        super(DenseNet, self).__init__()\n",
    "        self.linear1 = nn.Linear(in_ch, hid_ch)\n",
    "        self.linear2 = nn.Linear(hid_ch, 1)\n",
    "        self.Z = None\n",
    "\n",
    "\n",
    "    def forward(self, x):\n",
    "        Z = torch.tanh(self.linear1(x))\n",
    "        self.Z = Z\n",
    "        out = self.linear2(Z)\n",
    "        return out.view(-1)"
   ]
  },
  {
   "cell_type": "code",
   "execution_count": 469,
   "metadata": {},
   "outputs": [],
   "source": [
    "def train_epoch(model, optimizer, train_loader, criterion):\n",
    "    model.train()\n",
    "    for X, y in train_loader:\n",
    "        out = model(X)\n",
    "        loss = criterion(out, y)\n",
    "        optimizer.zero_grad()\n",
    "        loss.backward()\n",
    "        optimizer.step()"
   ]
  },
  {
   "cell_type": "code",
   "execution_count": 470,
   "metadata": {},
   "outputs": [],
   "source": [
    "def evaluate_loss(loader, model):\n",
    "    with torch.no_grad():\n",
    "        model.eval()\n",
    "        loss = 0\n",
    "        k = 0\n",
    "        for x, y in loader:\n",
    "            k += y.shape[0]\n",
    "            out = model(x)\n",
    "            loss += criterion(out, y.float()).numpy() \n",
    "        loss /= k\n",
    "    return loss"
   ]
  },
  {
   "cell_type": "code",
   "execution_count": 471,
   "metadata": {},
   "outputs": [],
   "source": [
    "def train(model, opt, train_loader, test_loader, criterion, n_epochs, verbose=True):\n",
    "    train_log = []\n",
    "    val_log = []\n",
    "    for epoch in range(n_epochs):\n",
    "        train_epoch(model, opt, train_loader, criterion)\n",
    "        train_loss = evaluate_loss(train_loader, model)\n",
    "        val_loss = evaluate_loss(test_loader, model)\n",
    "        train_log.append(train_loss)\n",
    "        val_log.append(val_loss)\n",
    "        if verbose:\n",
    "             print (('Epoch [%d/%d], Loss (train/test): %.4f/%.4f,')\n",
    "                   %(epoch+1, n_epochs, \\\n",
    "                     train_loss, val_loss))\n",
    "            \n",
    "    return train_log, val_log"
   ]
  },
  {
   "cell_type": "code",
   "execution_count": 477,
   "metadata": {},
   "outputs": [],
   "source": [
    "model = DenseNet(n, hid)"
   ]
  },
  {
   "cell_type": "code",
   "execution_count": 478,
   "metadata": {},
   "outputs": [],
   "source": [
    "optimizer = torch.optim.Adam(model.parameters(), lr=10e-3)\n",
    "criterion = nn.MSELoss()"
   ]
  },
  {
   "cell_type": "code",
   "execution_count": 479,
   "metadata": {
    "scrolled": false
   },
   "outputs": [],
   "source": [
    "train_log, test_log = train(model, optimizer, train_loader, test_loader, criterion, 20, verbose=False)"
   ]
  },
  {
   "cell_type": "code",
   "execution_count": 480,
   "metadata": {},
   "outputs": [
    {
     "name": "stdout",
     "output_type": "stream",
     "text": [
      "0.00013038632295404873\n"
     ]
    },
    {
     "data": {
      "image/png": "[encoded data removed]",
      "text/plain": [
       "<Figure size 432x288 with 1 Axes>"
      ]
     },
     "metadata": {},
     "output_type": "display_data"
    }
   ],
   "source": [
    "plt.plot(train_log)\n",
    "_=plt.plot(test_log)\n",
    "print(test_log[-1])"
   ]
  },
  {
   "cell_type": "code",
   "execution_count": 481,
   "metadata": {},
   "outputs": [
    {
     "name": "stdout",
     "output_type": "stream",
     "text": [
      "Parameter containing:\n",
      "tensor([[-0.0131, -0.0554,  0.0108,  0.0400,  0.0709,  0.1263, -0.0437, -0.0910,\n",
      "         -0.1096, -0.0536],\n",
      "        [-0.0363,  0.1215, -0.0721,  0.0438,  0.0538, -0.0187, -0.0751, -0.0777,\n",
      "          0.2172, -0.0174],\n",
      "        [ 0.1246, -0.4635,  0.1799, -0.0434, -0.0492,  0.0087,  0.3507,  0.0083,\n",
      "         -0.3762, -0.5629],\n",
      "        [ 0.0800, -0.0881,  0.2060, -0.2679, -0.4094, -0.3835,  0.3046,  0.5096,\n",
      "         -0.2023,  0.2292],\n",
      "        [-0.0288, -0.3397,  0.0907,  0.1348,  0.1874,  0.5909, -0.1844, -0.1775,\n",
      "         -0.8368,  0.1254]], requires_grad=True)\n",
      "Parameter containing:\n",
      "tensor([-1.4399,  1.9578, -0.0194, -0.0124,  0.0151], requires_grad=True)\n",
      "Parameter containing:\n",
      "tensor([[-3.9917,  3.9517,  3.2912,  4.9418, -7.2531]], requires_grad=True)\n",
      "Parameter containing:\n",
      "tensor([2.8312], requires_grad=True)\n"
     ]
    }
   ],
   "source": [
    "for i in model.parameters():\n",
    "    print(i)"
   ]
  },
  {
   "cell_type": "code",
   "execution_count": 482,
   "metadata": {},
   "outputs": [],
   "source": [
    "y_pred = model(torch.Tensor(X))\n",
    "errors =y_pred.data.numpy() - y"
   ]
  },
  {
   "cell_type": "code",
   "execution_count": 484,
   "metadata": {},
   "outputs": [
    {
     "data": {
      "image/png": "[encoded data removed]",
      "text/plain": [
       "<Figure size 432x288 with 1 Axes>"
      ]
     },
     "metadata": {},
     "output_type": "display_data"
    }
   ],
   "source": [
    "_=plt.hist(errors, bins=500)"
   ]
  },
  {
   "cell_type": "code",
   "execution_count": null,
   "metadata": {},
   "outputs": [],
   "source": []
  }
 ],
 "metadata": {
  "hide_input": false,
  "kernelspec": {
   "display_name": "Python 3",
   "language": "python",
   "name": "python3"
  },
  "language_info": {
   "codemirror_mode": {
    "name": "ipython",
    "version": 3
   },
   "file_extension": ".py",
   "mimetype": "text/x-python",
   "name": "python",
   "nbconvert_exporter": "python",
   "pygments_lexer": "ipython3",
   "version": "3.6.4"
  }
 },
 "nbformat": 4,
 "nbformat_minor": 2
}
